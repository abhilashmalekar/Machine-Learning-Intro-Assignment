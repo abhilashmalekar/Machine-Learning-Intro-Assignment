{
  "nbformat": 4,
  "nbformat_minor": 0,
  "metadata": {
    "colab": {
      "provenance": []
    },
    "kernelspec": {
      "name": "python3",
      "display_name": "Python 3"
    },
    "language_info": {
      "name": "python"
    }
  },
  "cells": [
    {
      "cell_type": "markdown",
      "source": [
        "# Question 1: Explain the differences between AI, ML, Deep Learning (DL), and Data\n",
        "Science (DS).\n",
        "### **Answer:**\n",
        "\n",
        "Artificial Intelligence (AI), Machine Learning (ML), Deep Learning (DL), and Data Science (DS) are interrelated fields in modern technology, but each has distinct characteristics, scope, and applications.\n",
        "\n",
        "**1. Artificial Intelligence (AI):**\n",
        "AI is the broadest concept that refers to creating systems capable of performing tasks that normally require human intelligence. These tasks include problem-solving, reasoning, decision-making, speech recognition, and natural language understanding. AI can be classified as **narrow AI** (task-specific systems like chatbots, recommendation engines) and **general AI** (hypothetical human-like intelligence). AI is thus an umbrella term under which ML and DL fall.\n",
        "\n",
        "**2. Machine Learning (ML):**\n",
        "ML is a **subset of AI** that focuses on enabling machines to learn patterns from data without being explicitly programmed. Instead of rule-based instructions, ML models use algorithms to improve performance with experience. Examples include spam email detection, predictive maintenance, and credit scoring. Techniques such as **supervised, unsupervised, and reinforcement learning** are common in ML.\n",
        "\n",
        "**3. Deep Learning (DL):**\n",
        "DL is a **specialized branch of ML** that uses **artificial neural networks** with multiple layers (hence “deep”). DL is powerful in handling unstructured data like images, audio, and text, which traditional ML struggles with. Applications include image recognition (e.g., face detection), speech assistants (like Siri, Alexa), and autonomous vehicles. DL requires **large datasets and high computing power**.\n",
        "\n",
        "**4. Data Science (DS):**\n",
        "Data Science is a multidisciplinary field that deals with **extracting insights and knowledge from structured and unstructured data**. It combines statistics, mathematics, ML, and domain expertise to analyze data for decision-making. Data scientists use tools like Python, R, SQL, and big data technologies to interpret trends, build predictive models, and communicate insights. Unlike AI/ML, DS is broader as it also emphasizes **data cleaning, visualization, and business interpretation**.\n",
        "\n",
        "**Key Differences (Summary):**\n",
        "\n",
        "* **AI** = the overall goal of creating intelligent machines.\n",
        "* **ML** = the method by which machines learn from data.\n",
        "* **DL** = advanced ML using neural networks for complex data.\n",
        "* **DS** = the practice of analyzing and interpreting data (often using AI/ML).\n",
        "\n",
        "\n"
      ],
      "metadata": {
        "id": "ZGiqX57J6Rhs"
      }
    },
    {
      "cell_type": "markdown",
      "source": [
        "# Question 2: What are the types of machine learning? Describe each with one real-world example\n",
        "### **Answer:**\n",
        "\n",
        "Machine Learning (ML) can be classified into **three main types**: Supervised Learning, Unsupervised Learning, and Reinforcement Learning. Each type differs in how the model learns from data and the kind of problem it solves.\n",
        "\n",
        "---\n",
        "\n",
        "**1. Supervised Learning:**\n",
        "\n",
        "* **Definition:** In supervised learning, the model is trained using a **labeled dataset**, where both input and output are provided. The algorithm learns the mapping function between input features and target output.\n",
        "* **Goal:** To predict outcomes for new, unseen data based on past labeled data.\n",
        "* **Techniques:** Regression (predicting continuous values) and Classification (predicting categories).\n",
        "* **Example:** **Email spam detection** – the model is trained on emails labeled as “spam” or “not spam” and learns to classify new emails correctly.\n",
        "\n",
        "---\n",
        "\n",
        "**2. Unsupervised Learning:**\n",
        "\n",
        "* **Definition:** In unsupervised learning, the dataset contains **only inputs without labeled outputs**. The algorithm tries to find hidden structures, patterns, or relationships in the data.\n",
        "* **Goal:** To group or organize data based on similarity or structure.\n",
        "* **Techniques:** Clustering and Dimensionality Reduction.\n",
        "* **Example:** **Customer segmentation in marketing** – companies use clustering to group customers based on purchase behavior, enabling targeted promotions.\n",
        "\n",
        "---\n",
        "\n",
        "**3. Reinforcement Learning (RL):**\n",
        "\n",
        "* **Definition:** RL is based on **learning through interaction with an environment**. An agent performs actions and receives rewards or penalties based on outcomes. Over time, it learns to maximize cumulative rewards.\n",
        "* **Goal:** To find the best strategy (policy) for decision-making in dynamic environments.\n",
        "* **Example:** **Self-driving cars** – the car (agent) learns to navigate roads safely by receiving rewards for correct actions (e.g., staying in lane) and penalties for mistakes (e.g., collisions).\n",
        "\n",
        "---\n",
        "\n",
        "**Summary:**\n",
        "\n",
        "* **Supervised Learning** → learns with labeled data (prediction tasks).\n",
        "* **Unsupervised Learning** → learns without labels (pattern discovery).\n",
        "* **Reinforcement Learning** → learns through trial and error (decision-making).\n",
        "\n",
        "These three types form the foundation of modern machine learning applications in industries such as healthcare, finance, robotics, and e-commerce.\n",
        "\n"
      ],
      "metadata": {
        "id": "aq2qZyI_7JfC"
      }
    },
    {
      "cell_type": "markdown",
      "source": [
        "# Question 3: Define overfitting, underfitting, and the bias-variance tradeoff in machine learning.\n",
        "### **Answer:**\n",
        "\n",
        "In Machine Learning, building accurate models requires balancing how well the model learns patterns without memorizing or missing key information. Three important concepts are **overfitting, underfitting, and the bias–variance tradeoff.**\n",
        "\n",
        "---\n",
        "\n",
        "**1. Overfitting:**\n",
        "\n",
        "* **Definition:** Overfitting occurs when a model learns the training data **too well**, capturing noise and random fluctuations instead of the general pattern.\n",
        "* **Characteristics:** High accuracy on training data but poor performance on unseen/test data.\n",
        "* **Cause:** Model complexity (too many parameters, deep networks) and insufficient data.\n",
        "* **Example:** A decision tree that memorizes every detail of training examples but fails to generalize to new data.\n",
        "\n",
        "---\n",
        "\n",
        "**2. Underfitting:**\n",
        "\n",
        "* **Definition:** Underfitting happens when the model is **too simple** to capture the underlying patterns in the data.\n",
        "* **Characteristics:** Poor performance on both training and test datasets.\n",
        "* **Cause:** Using models with low complexity (e.g., linear regression for non-linear data), inadequate training, or lack of features.\n",
        "* **Example:** Trying to predict housing prices with only the number of rooms, ignoring other important factors like location and size.\n",
        "\n",
        "---\n",
        "\n",
        "**3. Bias–Variance Tradeoff:**\n",
        "\n",
        "* **Definition:** The bias–variance tradeoff explains the balance between **model simplicity (bias)** and **model flexibility (variance).**\n",
        "\n",
        "  * **High Bias:** Model makes strong assumptions, leading to underfitting.\n",
        "  * **High Variance:** Model is too sensitive to training data, leading to overfitting.\n",
        "* **Goal:** Achieve the right balance where both bias and variance are minimized, resulting in good generalization.\n",
        "* **Example:** In polynomial regression:\n",
        "\n",
        "  * A straight line (high bias, low variance) underfits.\n",
        "  * A very high-degree polynomial (low bias, high variance) overfits.\n",
        "  * A moderate polynomial achieves a balance.\n",
        "\n",
        "---\n",
        "\n",
        "**Summary:**\n",
        "\n",
        "* **Overfitting** → model too complex → memorizes data (low bias, high variance).\n",
        "* **Underfitting** → model too simple → misses patterns (high bias, low variance).\n",
        "* **Bias–Variance Tradeoff** → balancing act to build a model that generalizes well.\n"
      ],
      "metadata": {
        "id": "Wh8C6eIF7pA9"
      }
    },
    {
      "cell_type": "markdown",
      "source": [
        "# Question 4: What are outliers in a dataset, and list three common techniques for handling them.\n",
        "\n",
        "### **Answer:**\n",
        "\n",
        "In Machine Learning, building accurate models requires balancing how well the model learns patterns without memorizing or missing key information. Three important concepts are **overfitting, underfitting, and the bias–variance tradeoff.**\n",
        "\n",
        "---\n",
        "\n",
        "**1. Overfitting:**\n",
        "\n",
        "* **Definition:** Overfitting occurs when a model learns the training data **too well**, capturing noise and random fluctuations instead of the general pattern.\n",
        "* **Characteristics:** High accuracy on training data but poor performance on unseen/test data.\n",
        "* **Cause:** Model complexity (too many parameters, deep networks) and insufficient data.\n",
        "* **Example:** A decision tree that memorizes every detail of training examples but fails to generalize to new data.\n",
        "\n",
        "---\n",
        "\n",
        "**2. Underfitting:**\n",
        "\n",
        "* **Definition:** Underfitting happens when the model is **too simple** to capture the underlying patterns in the data.\n",
        "* **Characteristics:** Poor performance on both training and test datasets.\n",
        "* **Cause:** Using models with low complexity (e.g., linear regression for non-linear data), inadequate training, or lack of features.\n",
        "* **Example:** Trying to predict housing prices with only the number of rooms, ignoring other important factors like location and size.\n",
        "\n",
        "---\n",
        "\n",
        "**3. Bias–Variance Tradeoff:**\n",
        "\n",
        "* **Definition:** The bias–variance tradeoff explains the balance between **model simplicity (bias)** and **model flexibility (variance).**\n",
        "\n",
        "  * **High Bias:** Model makes strong assumptions, leading to underfitting.\n",
        "  * **High Variance:** Model is too sensitive to training data, leading to overfitting.\n",
        "* **Goal:** Achieve the right balance where both bias and variance are minimized, resulting in good generalization.\n",
        "* **Example:** In polynomial regression:\n",
        "\n",
        "  * A straight line (high bias, low variance) underfits.\n",
        "  * A very high-degree polynomial (low bias, high variance) overfits.\n",
        "  * A moderate polynomial achieves a balance.\n",
        "\n",
        "---\n",
        "\n",
        "**Summary:**\n",
        "\n",
        "* **Overfitting** → model too complex → memorizes data (low bias, high variance).\n",
        "* **Underfitting** → model too simple → misses patterns (high bias, low variance).\n",
        "* **Bias–Variance Tradeoff** → balancing act to build a model that generalizes well.\n",
        "\n",
        "\n"
      ],
      "metadata": {
        "id": "FiBIyEFN77hK"
      }
    },
    {
      "cell_type": "markdown",
      "source": [
        "#Question 5: Explain the process of handling missing values and mention one imputation technique for numerical and one for categorical data.\n",
        "\n",
        "### **Answer:**\n",
        "\n",
        "In real-world datasets, **missing values** are common due to errors in data collection, transmission issues, or non-responses. If not handled properly, they can reduce model accuracy, introduce bias, and lead to incorrect conclusions. Handling missing values is, therefore, a crucial step in **data preprocessing.**\n",
        "\n",
        "---\n",
        "\n",
        "**1. Process of Handling Missing Values:**\n",
        "The general steps are:\n",
        "\n",
        "* **Step 1: Identify Missing Data** – Use techniques like `isnull()` or `describe()` in Python/R to detect gaps.\n",
        "* **Step 2: Analyze the Pattern** – Check whether data is missing completely at random (MCAR), missing at random (MAR), or not at random (MNAR).\n",
        "* **Step 3: Choose a Strategy** – Options include:\n",
        "\n",
        "  * **Deletion:** Removing rows/columns with many missing values (only if the proportion is small).\n",
        "  * **Imputation:** Filling missing values with suitable estimates.\n",
        "  * **Model-based Approaches:** Using algorithms like KNN imputer or regression to predict missing values.\n",
        "* **Step 4: Apply and Validate** – Ensure the chosen method does not distort data distribution or relationships.\n",
        "\n",
        "---\n",
        "\n",
        "**2. Imputation Techniques:**\n",
        "\n",
        "* **For Numerical Data:**\n",
        "\n",
        "  * **Mean/Median Imputation** – Replace missing values with the mean (for normally distributed data) or median (for skewed data).\n",
        "  * **Example:** If ages in a dataset are missing, replace missing values with the median age to avoid skew from outliers.\n",
        "\n",
        "* **For Categorical Data:**\n",
        "\n",
        "  * **Mode Imputation** – Replace missing values with the most frequently occurring category.\n",
        "  * **Example:** If “Gender” has missing entries, fill them with the most common category, say “Male” or “Female.”\n",
        "\n",
        "---\n",
        "\n",
        "**Summary:**\n",
        "Handling missing values involves **identifying, analyzing, and applying suitable techniques**.\n",
        "\n",
        "* For **numerical data** → use **mean/median imputation**.\n",
        "* For **categorical data** → use **mode imputation**.\n",
        "\n",
        "Proper handling ensures cleaner datasets and improves the performance of machine learning models.\n",
        "\n"
      ],
      "metadata": {
        "id": "B3y0L5fQ81YQ"
      }
    },
    {
      "cell_type": "markdown",
      "source": [
        "# Question 6: Write a Python program that:\n",
        "● Creates a synthetic imbalanced dataset with make_classification() from\n",
        "sklearn.datasets.\n",
        "\n",
        "● Prints the class distribution.\n",
        "(Include your Python code and output in the code box below.)\n",
        "\n"
      ],
      "metadata": {
        "id": "3bNaXzBF9HZW"
      }
    },
    {
      "cell_type": "code",
      "source": [
        "# Question 6\n",
        "\n",
        "from sklearn.datasets import make_classification\n",
        "from collections import Counter\n",
        "\n",
        "# Step 1: Create synthetic imbalanced dataset\n",
        "X, y = make_classification(n_classes=2, class_sep=2,\n",
        "                           weights=[0.9, 0.1],   # 90% class 0, 10% class 1\n",
        "                           n_informative=3, n_redundant=1, flip_y=0,\n",
        "                           n_features=5, n_clusters_per_class=1,\n",
        "                           n_samples=1000, random_state=42)\n",
        "\n",
        "# Step 2: Print class distribution\n",
        "print(\"Class distribution:\", Counter(y))\n",
        "\n"
      ],
      "metadata": {
        "colab": {
          "base_uri": "https://localhost:8080/"
        },
        "id": "xp09Enk69bRM",
        "outputId": "0aaea3c0-9791-4ecd-9bf2-4db87df04cc9"
      },
      "execution_count": 1,
      "outputs": [
        {
          "output_type": "stream",
          "name": "stdout",
          "text": [
            "Class distribution: Counter({np.int64(0): 900, np.int64(1): 100})\n"
          ]
        }
      ]
    },
    {
      "cell_type": "markdown",
      "source": [
        "# Question 7: Implement one-hot encoding using pandas for the following list of colors:\n",
        "['Red', 'Green', 'Blue', 'Green', 'Red']. Print the resulting dataframe.\n",
        "(Include your Python code and output in the code box below.)\n"
      ],
      "metadata": {
        "id": "sAyB2KC99ndM"
      }
    },
    {
      "cell_type": "code",
      "source": [
        "# Question 7\n",
        "\n",
        "import pandas as pd\n",
        "\n",
        "# Given list of colors\n",
        "colors = ['Red', 'Green', 'Blue', 'Green', 'Red']\n",
        "\n",
        "# Convert to DataFrame\n",
        "df = pd.DataFrame(colors, columns=['Color'])\n",
        "\n",
        "# Apply one-hot encoding\n",
        "one_hot_df = pd.get_dummies(df, columns=['Color'])\n",
        "\n",
        "# Print the resulting DataFrame\n",
        "print(one_hot_df)\n",
        "\n"
      ],
      "metadata": {
        "colab": {
          "base_uri": "https://localhost:8080/"
        },
        "id": "DTqm_mZ79vrN",
        "outputId": "e60e4fd3-3e2b-4489-e445-f86459dd2035"
      },
      "execution_count": 2,
      "outputs": [
        {
          "output_type": "stream",
          "name": "stdout",
          "text": [
            "   Color_Blue  Color_Green  Color_Red\n",
            "0       False        False       True\n",
            "1       False         True      False\n",
            "2        True        False      False\n",
            "3       False         True      False\n",
            "4       False        False       True\n"
          ]
        }
      ]
    },
    {
      "cell_type": "markdown",
      "source": [
        "# Question 8: Write a Python script to:\n",
        "● Generate 1000 samples from a normal distribution.\n",
        "\n",
        "● Introduce 50 random missing values.\n",
        "\n",
        "● Fill missing values with the column mean.\n",
        "\n",
        "● Plot a histogram before and after imputation.\n",
        "(Include your Python code and output in the code box below.)"
      ],
      "metadata": {
        "id": "vdXQvpZJ9_fr"
      }
    },
    {
      "cell_type": "code",
      "source": [
        "# Question 8\n",
        "\n",
        "import numpy as np\n",
        "import pandas as pd\n",
        "import matplotlib.pyplot as plt\n",
        "\n",
        "# Step 1: Generate 1000 samples from a normal distribution\n",
        "np.random.seed(42)\n",
        "data = np.random.normal(loc=50, scale=10, size=1000)\n",
        "\n",
        "# Step 2: Convert to DataFrame\n",
        "df = pd.DataFrame(data, columns=['Value'])\n",
        "\n",
        "# Step 3: Introduce 50 random missing values\n",
        "missing_indices = np.random.choice(df.index, 50, replace=False)\n",
        "df.loc[missing_indices, 'Value'] = np.nan\n",
        "\n",
        "# Step 4: Fill missing values with column mean\n",
        "mean_value = df['Value'].mean()\n",
        "df['Imputed'] = df['Value'].fillna(mean_value)\n",
        "\n",
        "# Step 5: Plot histograms before and after imputation\n",
        "plt.figure(figsize=(10,5))\n",
        "\n",
        "plt.subplot(1,2,1)\n",
        "plt.hist(df['Value'].dropna(), bins=30)\n",
        "plt.title(\"Before Imputation\")\n",
        "\n",
        "plt.subplot(1,2,2)\n",
        "plt.hist(df['Imputed'], bins=30)\n",
        "plt.title(\"After Imputation\")\n",
        "\n",
        "plt.tight_layout()\n",
        "plt.show()\n"
      ],
      "metadata": {
        "colab": {
          "base_uri": "https://localhost:8080/",
          "height": 507
        },
        "id": "M2J0D0Kj-O81",
        "outputId": "c02d51cb-e266-456d-f61c-fa6a6571eefa"
      },
      "execution_count": 3,
      "outputs": [
        {
          "output_type": "display_data",
          "data": {
            "text/plain": [
              "<Figure size 1000x500 with 2 Axes>"
            ],
            "image/png": "[encoded data removed]"
          },
          "metadata": {}
        }
      ]
    },
    {
      "cell_type": "markdown",
      "source": [
        "# Question 9: Implement Min-Max scaling on the following list of numbers [2, 5, 10, 15, 20] using sklearn.preprocessing.MinMaxScaler. Print the scaled array.\n",
        "(Include your Python code and output in the code box below.)"
      ],
      "metadata": {
        "id": "_X1cmLZp-dLS"
      }
    },
    {
      "cell_type": "code",
      "source": [
        "from sklearn.preprocessing import MinMaxScaler\n",
        "import numpy as np\n",
        "\n",
        "# Given data\n",
        "data = np.array([2, 5, 10, 15, 20]).reshape(-1, 1)\n",
        "\n",
        "# Initialize MinMaxScaler\n",
        "scaler = MinMaxScaler()\n",
        "\n",
        "# Fit and transform the data\n",
        "scaled_data = scaler.fit_transform(data)\n",
        "\n",
        "# Print scaled array\n",
        "print(\"Original Data:\\n\", data.flatten())\n",
        "print(\"Scaled Data:\\n\", scaled_data.flatten())\n"
      ],
      "metadata": {
        "colab": {
          "base_uri": "https://localhost:8080/"
        },
        "id": "jp957QJS-jRB",
        "outputId": "0a5a35c0-c3dd-43bc-9390-458c19195334"
      },
      "execution_count": 4,
      "outputs": [
        {
          "output_type": "stream",
          "name": "stdout",
          "text": [
            "Original Data:\n",
            " [ 2  5 10 15 20]\n",
            "Scaled Data:\n",
            " [0.         0.16666667 0.44444444 0.72222222 1.        ]\n"
          ]
        }
      ]
    },
    {
      "cell_type": "markdown",
      "source": [
        "# Question 10: You are working as a data scientist for a retail company. You receive a customer\n",
        "transaction dataset that contains:\n",
        "\n",
        "● Missing ages,\n",
        "\n",
        "● Outliers in transaction amount,\n",
        "\n",
        "● A highly imbalanced target (fraud vs. non-fraud),\n",
        "\n",
        "● Categorical variables like payment method.\n",
        "\n",
        "Explain the step-by-step data preparation plan you’d follow before training a machine learning\n",
        "model. Include how you’d address missing data, outliers, imbalance, and encoding.\n",
        "\n",
        "(Include your Python code and output in the code box below.)"
      ],
      "metadata": {
        "id": "Pl0zyu9y-2Tc"
      }
    },
    {
      "cell_type": "markdown",
      "source": [
        "Step-by-Step Data Preparation Plan\n",
        "\n",
        "Handle Missing Data (e.g., Missing Ages)\n",
        "\n",
        "For numerical variables like age:\n",
        "\n",
        "Use mean/median imputation (median is safer if distribution is skewed).\n",
        "\n",
        "Alternatively, predictive imputation (e.g., KNNImputer).\n",
        "\n",
        "For categorical variables:\n",
        "\n",
        "Use mode imputation or a special category \"Unknown\".\n",
        "\n",
        "Handle Outliers in Transaction Amount\n",
        "\n",
        "Detect outliers using IQR method or Z-score.\n",
        "\n",
        "Options to handle:\n",
        "\n",
        "Cap (winsorize) extreme values.\n",
        "\n",
        "Apply log transformation if highly skewed.\n",
        "\n",
        "Handle Imbalanced Target (Fraud vs Non-Fraud)\n",
        "\n",
        "Common strategies:\n",
        "\n",
        "Oversampling minority class (e.g., SMOTE).\n",
        "\n",
        "Undersampling majority class.\n",
        "\n",
        "Class weights in model training (e.g., in LogisticRegression, RandomForest, XGBoost).\n",
        "\n",
        "Encode Categorical Variables (e.g., Payment Method)\n",
        "\n",
        "One-Hot Encoding for nominal variables (no order).\n",
        "\n",
        "Ordinal Encoding if categories have inherent order.\n",
        "\n",
        "Final Step: Scaling (if needed)\n",
        "\n",
        "Use StandardScaler or MinMaxScaler for algorithms sensitive to scale (e.g., KNN, SVM)."
      ],
      "metadata": {
        "id": "5HQaWFua_M8G"
      }
    },
    {
      "cell_type": "code",
      "source": [
        "import pandas as pd\n",
        "import numpy as np\n",
        "from sklearn.impute import SimpleImputer\n",
        "from sklearn.preprocessing import OneHotEncoder, StandardScaler\n",
        "from imblearn.over_sampling import SMOTE\n",
        "\n",
        "# Dummy dataset\n",
        "data = {\n",
        "    \"age\": [25, np.nan, 40, 35, np.nan, 60],\n",
        "    \"transaction_amount\": [50, 2000, 100, 75, 50000, 120],\n",
        "    \"payment_method\": [\"card\", \"cash\", \"upi\", \"card\", \"cash\", \"upi\"],\n",
        "    \"fraud\": [0, 0, 1, 0, 0, 1]\n",
        "}\n",
        "df = pd.DataFrame(data)\n",
        "print(\"Original Data:\\n\", df, \"\\n\")\n",
        "\n",
        "# 1. Handle missing ages (median imputation)\n",
        "age_imputer = SimpleImputer(strategy=\"median\")\n",
        "df[\"age\"] = age_imputer.fit_transform(df[[\"age\"]])\n",
        "\n",
        "# 2. Handle outliers (cap transaction_amount using IQR method)\n",
        "Q1 = df[\"transaction_amount\"].quantile(0.25)\n",
        "Q3 = df[\"transaction_amount\"].quantile(0.75)\n",
        "IQR = Q3 - Q1\n",
        "lower = Q1 - 1.5 * IQR\n",
        "upper = Q3 + 1.5 * IQR\n",
        "df[\"transaction_amount\"] = np.where(df[\"transaction_amount\"] > upper, upper, df[\"transaction_amount\"])\n",
        "\n",
        "# 3. Encode categorical variables\n",
        "encoder = OneHotEncoder(drop=\"first\", sparse_output=False)  # FIXED for sklearn>=1.2\n",
        "encoded_payment = encoder.fit_transform(df[[\"payment_method\"]])\n",
        "encoded_df = pd.DataFrame(encoded_payment, columns=encoder.get_feature_names_out([\"payment_method\"]))\n",
        "df = pd.concat([df.drop(\"payment_method\", axis=1), encoded_df], axis=1)\n",
        "\n",
        "# 4. Handle imbalance using SMOTE\n",
        "X = df.drop(\"fraud\", axis=1)\n",
        "y = df[\"fraud\"]\n",
        "smote = SMOTE(random_state=42)\n",
        "X_res, y_res = smote.fit_resample(X, y)\n",
        "\n",
        "# Save column names before scaling\n",
        "cols = X_res.columns\n",
        "\n",
        "# 5. Scale features\n",
        "scaler = StandardScaler()\n",
        "X_res_scaled = scaler.fit_transform(X_res)\n",
        "\n",
        "print(\"After Preprocessing (Balanced & Scaled):\")\n",
        "print(pd.DataFrame(X_res_scaled, columns=cols).head())  # FIXED\n",
        "print(\"\\nBalanced Target Distribution:\\n\", y_res.value_counts())\n"
      ],
      "metadata": {
        "colab": {
          "base_uri": "https://localhost:8080/",
          "height": 512
        },
        "id": "nQWb3NqK_lUA",
        "outputId": "6f7fe11c-5312-40d0-9e75-9dae30907b9b"
      },
      "execution_count": 6,
      "outputs": [
        {
          "output_type": "stream",
          "name": "stdout",
          "text": [
            "Original Data:\n",
            "     age  transaction_amount payment_method  fraud\n",
            "0  25.0                  50           card      0\n",
            "1   NaN                2000           cash      0\n",
            "2  40.0                 100            upi      1\n",
            "3  35.0                  75           card      0\n",
            "4   NaN               50000           cash      0\n",
            "5  60.0                 120            upi      1 \n",
            "\n"
          ]
        },
        {
          "output_type": "error",
          "ename": "ValueError",
          "evalue": "Expected n_neighbors <= n_samples_fit, but n_neighbors = 6, n_samples_fit = 2, n_samples = 2",
          "traceback": [
            "\u001b[0;31m---------------------------------------------------------------------------\u001b[0m",
            "\u001b[0;31mValueError\u001b[0m                                Traceback (most recent call last)",
            "\u001b[0;32m/tmp/ipython-input-194114643.py\u001b[0m in \u001b[0;36m<cell line: 0>\u001b[0;34m()\u001b[0m\n\u001b[1;32m     37\u001b[0m \u001b[0my\u001b[0m \u001b[0;34m=\u001b[0m \u001b[0mdf\u001b[0m\u001b[0;34m[\u001b[0m\u001b[0;34m\"fraud\"\u001b[0m\u001b[0;34m]\u001b[0m\u001b[0;34m\u001b[0m\u001b[0;34m\u001b[0m\u001b[0m\n\u001b[1;32m     38\u001b[0m \u001b[0msmote\u001b[0m \u001b[0;34m=\u001b[0m \u001b[0mSMOTE\u001b[0m\u001b[0;34m(\u001b[0m\u001b[0mrandom_state\u001b[0m\u001b[0;34m=\u001b[0m\u001b[0;36m42\u001b[0m\u001b[0;34m)\u001b[0m\u001b[0;34m\u001b[0m\u001b[0;34m\u001b[0m\u001b[0m\n\u001b[0;32m---> 39\u001b[0;31m \u001b[0mX_res\u001b[0m\u001b[0;34m,\u001b[0m \u001b[0my_res\u001b[0m \u001b[0;34m=\u001b[0m \u001b[0msmote\u001b[0m\u001b[0;34m.\u001b[0m\u001b[0mfit_resample\u001b[0m\u001b[0;34m(\u001b[0m\u001b[0mX\u001b[0m\u001b[0;34m,\u001b[0m \u001b[0my\u001b[0m\u001b[0;34m)\u001b[0m\u001b[0;34m\u001b[0m\u001b[0;34m\u001b[0m\u001b[0m\n\u001b[0m\u001b[1;32m     40\u001b[0m \u001b[0;34m\u001b[0m\u001b[0m\n\u001b[1;32m     41\u001b[0m \u001b[0;31m# Save column names before scaling\u001b[0m\u001b[0;34m\u001b[0m\u001b[0;34m\u001b[0m\u001b[0m\n",
            "\u001b[0;32m/usr/local/lib/python3.12/dist-packages/imblearn/base.py\u001b[0m in \u001b[0;36mfit_resample\u001b[0;34m(self, X, y, **params)\u001b[0m\n\u001b[1;32m    200\u001b[0m             \u001b[0mThe\u001b[0m \u001b[0mcorresponding\u001b[0m \u001b[0mlabel\u001b[0m \u001b[0mof\u001b[0m\u001b[0;31m \u001b[0m\u001b[0;31m`\u001b[0m\u001b[0mX_resampled\u001b[0m\u001b[0;31m`\u001b[0m\u001b[0;34m.\u001b[0m\u001b[0;34m\u001b[0m\u001b[0;34m\u001b[0m\u001b[0m\n\u001b[1;32m    201\u001b[0m         \"\"\"\n\u001b[0;32m--> 202\u001b[0;31m         \u001b[0;32mreturn\u001b[0m \u001b[0msuper\u001b[0m\u001b[0;34m(\u001b[0m\u001b[0;34m)\u001b[0m\u001b[0;34m.\u001b[0m\u001b[0mfit_resample\u001b[0m\u001b[0;34m(\u001b[0m\u001b[0mX\u001b[0m\u001b[0;34m,\u001b[0m \u001b[0my\u001b[0m\u001b[0;34m,\u001b[0m \u001b[0;34m**\u001b[0m\u001b[0mparams\u001b[0m\u001b[0;34m)\u001b[0m\u001b[0;34m\u001b[0m\u001b[0;34m\u001b[0m\u001b[0m\n\u001b[0m\u001b[1;32m    203\u001b[0m \u001b[0;34m\u001b[0m\u001b[0m\n\u001b[1;32m    204\u001b[0m     \u001b[0;32mdef\u001b[0m \u001b[0m_more_tags\u001b[0m\u001b[0;34m(\u001b[0m\u001b[0mself\u001b[0m\u001b[0;34m)\u001b[0m\u001b[0;34m:\u001b[0m\u001b[0;34m\u001b[0m\u001b[0;34m\u001b[0m\u001b[0m\n",
            "\u001b[0;32m/usr/local/lib/python3.12/dist-packages/sklearn/base.py\u001b[0m in \u001b[0;36mwrapper\u001b[0;34m(estimator, *args, **kwargs)\u001b[0m\n\u001b[1;32m   1387\u001b[0m                 )\n\u001b[1;32m   1388\u001b[0m             ):\n\u001b[0;32m-> 1389\u001b[0;31m                 \u001b[0;32mreturn\u001b[0m \u001b[0mfit_method\u001b[0m\u001b[0;34m(\u001b[0m\u001b[0mestimator\u001b[0m\u001b[0;34m,\u001b[0m \u001b[0;34m*\u001b[0m\u001b[0margs\u001b[0m\u001b[0;34m,\u001b[0m \u001b[0;34m**\u001b[0m\u001b[0mkwargs\u001b[0m\u001b[0;34m)\u001b[0m\u001b[0;34m\u001b[0m\u001b[0;34m\u001b[0m\u001b[0m\n\u001b[0m\u001b[1;32m   1390\u001b[0m \u001b[0;34m\u001b[0m\u001b[0m\n\u001b[1;32m   1391\u001b[0m         \u001b[0;32mreturn\u001b[0m \u001b[0mwrapper\u001b[0m\u001b[0;34m\u001b[0m\u001b[0;34m\u001b[0m\u001b[0m\n",
            "\u001b[0;32m/usr/local/lib/python3.12/dist-packages/imblearn/base.py\u001b[0m in \u001b[0;36mfit_resample\u001b[0;34m(self, X, y, **params)\u001b[0m\n\u001b[1;32m    103\u001b[0m         )\n\u001b[1;32m    104\u001b[0m \u001b[0;34m\u001b[0m\u001b[0m\n\u001b[0;32m--> 105\u001b[0;31m         \u001b[0moutput\u001b[0m \u001b[0;34m=\u001b[0m \u001b[0mself\u001b[0m\u001b[0;34m.\u001b[0m\u001b[0m_fit_resample\u001b[0m\u001b[0;34m(\u001b[0m\u001b[0mX\u001b[0m\u001b[0;34m,\u001b[0m \u001b[0my\u001b[0m\u001b[0;34m,\u001b[0m \u001b[0;34m**\u001b[0m\u001b[0mparams\u001b[0m\u001b[0;34m)\u001b[0m\u001b[0;34m\u001b[0m\u001b[0;34m\u001b[0m\u001b[0m\n\u001b[0m\u001b[1;32m    106\u001b[0m \u001b[0;34m\u001b[0m\u001b[0m\n\u001b[1;32m    107\u001b[0m         y_ = (\n",
            "\u001b[0;32m/usr/local/lib/python3.12/dist-packages/imblearn/over_sampling/_smote/base.py\u001b[0m in \u001b[0;36m_fit_resample\u001b[0;34m(self, X, y)\u001b[0m\n\u001b[1;32m    357\u001b[0m \u001b[0;34m\u001b[0m\u001b[0m\n\u001b[1;32m    358\u001b[0m             \u001b[0mself\u001b[0m\u001b[0;34m.\u001b[0m\u001b[0mnn_k_\u001b[0m\u001b[0;34m.\u001b[0m\u001b[0mfit\u001b[0m\u001b[0;34m(\u001b[0m\u001b[0mX_class\u001b[0m\u001b[0;34m)\u001b[0m\u001b[0;34m\u001b[0m\u001b[0;34m\u001b[0m\u001b[0m\n\u001b[0;32m--> 359\u001b[0;31m             \u001b[0mnns\u001b[0m \u001b[0;34m=\u001b[0m \u001b[0mself\u001b[0m\u001b[0;34m.\u001b[0m\u001b[0mnn_k_\u001b[0m\u001b[0;34m.\u001b[0m\u001b[0mkneighbors\u001b[0m\u001b[0;34m(\u001b[0m\u001b[0mX_class\u001b[0m\u001b[0;34m,\u001b[0m \u001b[0mreturn_distance\u001b[0m\u001b[0;34m=\u001b[0m\u001b[0;32mFalse\u001b[0m\u001b[0;34m)\u001b[0m\u001b[0;34m[\u001b[0m\u001b[0;34m:\u001b[0m\u001b[0;34m,\u001b[0m \u001b[0;36m1\u001b[0m\u001b[0;34m:\u001b[0m\u001b[0;34m]\u001b[0m\u001b[0;34m\u001b[0m\u001b[0;34m\u001b[0m\u001b[0m\n\u001b[0m\u001b[1;32m    360\u001b[0m             X_new, y_new = self._make_samples(\n\u001b[1;32m    361\u001b[0m                 \u001b[0mX_class\u001b[0m\u001b[0;34m,\u001b[0m \u001b[0my\u001b[0m\u001b[0;34m.\u001b[0m\u001b[0mdtype\u001b[0m\u001b[0;34m,\u001b[0m \u001b[0mclass_sample\u001b[0m\u001b[0;34m,\u001b[0m \u001b[0mX_class\u001b[0m\u001b[0;34m,\u001b[0m \u001b[0mnns\u001b[0m\u001b[0;34m,\u001b[0m \u001b[0mn_samples\u001b[0m\u001b[0;34m,\u001b[0m \u001b[0;36m1.0\u001b[0m\u001b[0;34m\u001b[0m\u001b[0;34m\u001b[0m\u001b[0m\n",
            "\u001b[0;32m/usr/local/lib/python3.12/dist-packages/sklearn/neighbors/_base.py\u001b[0m in \u001b[0;36mkneighbors\u001b[0;34m(self, X, n_neighbors, return_distance)\u001b[0m\n\u001b[1;32m    852\u001b[0m             \u001b[0;32melse\u001b[0m\u001b[0;34m:\u001b[0m\u001b[0;34m\u001b[0m\u001b[0;34m\u001b[0m\u001b[0m\n\u001b[1;32m    853\u001b[0m                 \u001b[0minequality_str\u001b[0m \u001b[0;34m=\u001b[0m \u001b[0;34m\"n_neighbors <= n_samples_fit\"\u001b[0m\u001b[0;34m\u001b[0m\u001b[0;34m\u001b[0m\u001b[0m\n\u001b[0;32m--> 854\u001b[0;31m             raise ValueError(\n\u001b[0m\u001b[1;32m    855\u001b[0m                 \u001b[0;34mf\"Expected {inequality_str}, but \"\u001b[0m\u001b[0;34m\u001b[0m\u001b[0;34m\u001b[0m\u001b[0m\n\u001b[1;32m    856\u001b[0m                 \u001b[0;34mf\"n_neighbors = {n_neighbors}, n_samples_fit = {n_samples_fit}, \"\u001b[0m\u001b[0;34m\u001b[0m\u001b[0;34m\u001b[0m\u001b[0m\n",
            "\u001b[0;31mValueError\u001b[0m: Expected n_neighbors <= n_samples_fit, but n_neighbors = 6, n_samples_fit = 2, n_samples = 2"
          ]
        }
      ]
    }
  ]
}